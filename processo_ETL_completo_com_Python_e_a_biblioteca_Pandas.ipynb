{
  "nbformat": 4,
  "nbformat_minor": 0,
  "metadata": {
    "colab": {
      "provenance": [],
      "include_colab_link": true
    },
    "kernelspec": {
      "name": "python3",
      "display_name": "Python 3"
    },
    "language_info": {
      "name": "python"
    }
  },
  "cells": [
    {
      "cell_type": "markdown",
      "metadata": {
        "id": "view-in-github",
        "colab_type": "text"
      },
      "source": [
        "<a href=\"https://colab.research.google.com/github/annabrt/processo-ETL-Python-anotacoes/blob/main/processo_ETL_completo_com_Python_e_a_biblioteca_Pandas.ipynb\" target=\"_parent\"><img src=\"https://colab.research.google.com/assets/colab-badge.svg\" alt=\"Open In Colab\"/></a>"
      ]
    },
    {
      "cell_type": "markdown",
      "source": [
        "#import pandas as pd\n",
        "  Importa a biblioteca pandas, que é usada para trabalhar com dados em formato de tabelas (DataFrames)."
      ],
      "metadata": {
        "id": "z-KtV9qA2DsH"
      }
    },
    {
      "cell_type": "code",
      "execution_count": null,
      "metadata": {
        "id": "DH4gYlpk0Pbv"
      },
      "outputs": [],
      "source": [
        "import pandas as pd"
      ]
    },
    {
      "cell_type": "code",
      "source": [
        "pd.read_csv(\"SuperHeroes.csv\", sep=';')"
      ],
      "metadata": {
        "colab": {
          "base_uri": "https://localhost:8080/",
          "height": 580
        },
        "id": "EHufBOER1Spg",
        "outputId": "c2d78b59-0d21-494e-be11-5e19b9f52b47"
      },
      "execution_count": null,
      "outputs": [
        {
          "output_type": "execute_result",
          "data": {
            "text/plain": [
              "             Name  Gender                Eye color             Race  \\\n",
              "0           Alien    Male                  unknown  Xenomorph XX121   \n",
              "1    Killer Frost  Female                     blue            Human   \n",
              "2        Mystique  Female  yellow (without irises)           Mutant   \n",
              "3          Nebula  Female                     blue        Luphomoid   \n",
              "4      Abe Sapien    Male                     blue    Icthyo Sapien   \n",
              "..            ...     ...                      ...              ...   \n",
              "729     Blackwulf    Male                      red            Alien   \n",
              "730    Anti-Venom    Male                     blue         Symbiote   \n",
              "731     Venompool    Male                  unknown         Symbiote   \n",
              "732             Q    Male                  unknown    God / Eternal   \n",
              "733    Brundlefly    Male                  unknown           Mutant   \n",
              "\n",
              "       Hair color  Height          Publisher Skin color Alignment  Weight  \n",
              "0         No Hair   244.0  Dark Horse Comics      black       bad   169.0  \n",
              "1           Blond     NaN          DC Comics       blue       bad     NaN  \n",
              "2    Red / Orange   178.0      Marvel Comics       blue       bad    54.0  \n",
              "3         No Hair   185.0      Marvel Comics       blue       bad    83.0  \n",
              "4         No Hair   191.0  Dark Horse Comics       blue      good    65.0  \n",
              "..            ...     ...                ...        ...       ...     ...  \n",
              "729         White   188.0      Marvel Comics    unknown   unknown    88.0  \n",
              "730         Blond   229.0      Marvel Comics    unknown   unknown   358.0  \n",
              "731       unknown   226.0      Marvel Comics    unknown   unknown     NaN  \n",
              "732       unknown     NaN          Star Trek    unknown   unknown     NaN  \n",
              "733       unknown   193.0            unknown    unknown   unknown     NaN  \n",
              "\n",
              "[734 rows x 10 columns]"
            ],
            "text/html": [
              "\n",
              "  <div id=\"df-6633811a-6f8c-4bf5-abc0-fd704afe03c7\" class=\"colab-df-container\">\n",
              "    <div>\n",
              "<style scoped>\n",
              "    .dataframe tbody tr th:only-of-type {\n",
              "        vertical-align: middle;\n",
              "    }\n",
              "\n",
              "    .dataframe tbody tr th {\n",
              "        vertical-align: top;\n",
              "    }\n",
              "\n",
              "    .dataframe thead th {\n",
              "        text-align: right;\n",
              "    }\n",
              "</style>\n",
              "<table border=\"1\" class=\"dataframe\">\n",
              "  <thead>\n",
              "    <tr style=\"text-align: right;\">\n",
              "      <th></th>\n",
              "      <th>Name</th>\n",
              "      <th>Gender</th>\n",
              "      <th>Eye color</th>\n",
              "      <th>Race</th>\n",
              "      <th>Hair color</th>\n",
              "      <th>Height</th>\n",
              "      <th>Publisher</th>\n",
              "      <th>Skin color</th>\n",
              "      <th>Alignment</th>\n",
              "      <th>Weight</th>\n",
              "    </tr>\n",
              "  </thead>\n",
              "  <tbody>\n",
              "    <tr>\n",
              "      <th>0</th>\n",
              "      <td>Alien</td>\n",
              "      <td>Male</td>\n",
              "      <td>unknown</td>\n",
              "      <td>Xenomorph XX121</td>\n",
              "      <td>No Hair</td>\n",
              "      <td>244.0</td>\n",
              "      <td>Dark Horse Comics</td>\n",
              "      <td>black</td>\n",
              "      <td>bad</td>\n",
              "      <td>169.0</td>\n",
              "    </tr>\n",
              "    <tr>\n",
              "      <th>1</th>\n",
              "      <td>Killer Frost</td>\n",
              "      <td>Female</td>\n",
              "      <td>blue</td>\n",
              "      <td>Human</td>\n",
              "      <td>Blond</td>\n",
              "      <td>NaN</td>\n",
              "      <td>DC Comics</td>\n",
              "      <td>blue</td>\n",
              "      <td>bad</td>\n",
              "      <td>NaN</td>\n",
              "    </tr>\n",
              "    <tr>\n",
              "      <th>2</th>\n",
              "      <td>Mystique</td>\n",
              "      <td>Female</td>\n",
              "      <td>yellow (without irises)</td>\n",
              "      <td>Mutant</td>\n",
              "      <td>Red / Orange</td>\n",
              "      <td>178.0</td>\n",
              "      <td>Marvel Comics</td>\n",
              "      <td>blue</td>\n",
              "      <td>bad</td>\n",
              "      <td>54.0</td>\n",
              "    </tr>\n",
              "    <tr>\n",
              "      <th>3</th>\n",
              "      <td>Nebula</td>\n",
              "      <td>Female</td>\n",
              "      <td>blue</td>\n",
              "      <td>Luphomoid</td>\n",
              "      <td>No Hair</td>\n",
              "      <td>185.0</td>\n",
              "      <td>Marvel Comics</td>\n",
              "      <td>blue</td>\n",
              "      <td>bad</td>\n",
              "      <td>83.0</td>\n",
              "    </tr>\n",
              "    <tr>\n",
              "      <th>4</th>\n",
              "      <td>Abe Sapien</td>\n",
              "      <td>Male</td>\n",
              "      <td>blue</td>\n",
              "      <td>Icthyo Sapien</td>\n",
              "      <td>No Hair</td>\n",
              "      <td>191.0</td>\n",
              "      <td>Dark Horse Comics</td>\n",
              "      <td>blue</td>\n",
              "      <td>good</td>\n",
              "      <td>65.0</td>\n",
              "    </tr>\n",
              "    <tr>\n",
              "      <th>...</th>\n",
              "      <td>...</td>\n",
              "      <td>...</td>\n",
              "      <td>...</td>\n",
              "      <td>...</td>\n",
              "      <td>...</td>\n",
              "      <td>...</td>\n",
              "      <td>...</td>\n",
              "      <td>...</td>\n",
              "      <td>...</td>\n",
              "      <td>...</td>\n",
              "    </tr>\n",
              "    <tr>\n",
              "      <th>729</th>\n",
              "      <td>Blackwulf</td>\n",
              "      <td>Male</td>\n",
              "      <td>red</td>\n",
              "      <td>Alien</td>\n",
              "      <td>White</td>\n",
              "      <td>188.0</td>\n",
              "      <td>Marvel Comics</td>\n",
              "      <td>unknown</td>\n",
              "      <td>unknown</td>\n",
              "      <td>88.0</td>\n",
              "    </tr>\n",
              "    <tr>\n",
              "      <th>730</th>\n",
              "      <td>Anti-Venom</td>\n",
              "      <td>Male</td>\n",
              "      <td>blue</td>\n",
              "      <td>Symbiote</td>\n",
              "      <td>Blond</td>\n",
              "      <td>229.0</td>\n",
              "      <td>Marvel Comics</td>\n",
              "      <td>unknown</td>\n",
              "      <td>unknown</td>\n",
              "      <td>358.0</td>\n",
              "    </tr>\n",
              "    <tr>\n",
              "      <th>731</th>\n",
              "      <td>Venompool</td>\n",
              "      <td>Male</td>\n",
              "      <td>unknown</td>\n",
              "      <td>Symbiote</td>\n",
              "      <td>unknown</td>\n",
              "      <td>226.0</td>\n",
              "      <td>Marvel Comics</td>\n",
              "      <td>unknown</td>\n",
              "      <td>unknown</td>\n",
              "      <td>NaN</td>\n",
              "    </tr>\n",
              "    <tr>\n",
              "      <th>732</th>\n",
              "      <td>Q</td>\n",
              "      <td>Male</td>\n",
              "      <td>unknown</td>\n",
              "      <td>God / Eternal</td>\n",
              "      <td>unknown</td>\n",
              "      <td>NaN</td>\n",
              "      <td>Star Trek</td>\n",
              "      <td>unknown</td>\n",
              "      <td>unknown</td>\n",
              "      <td>NaN</td>\n",
              "    </tr>\n",
              "    <tr>\n",
              "      <th>733</th>\n",
              "      <td>Brundlefly</td>\n",
              "      <td>Male</td>\n",
              "      <td>unknown</td>\n",
              "      <td>Mutant</td>\n",
              "      <td>unknown</td>\n",
              "      <td>193.0</td>\n",
              "      <td>unknown</td>\n",
              "      <td>unknown</td>\n",
              "      <td>unknown</td>\n",
              "      <td>NaN</td>\n",
              "    </tr>\n",
              "  </tbody>\n",
              "</table>\n",
              "<p>734 rows × 10 columns</p>\n",
              "</div>\n",
              "    <div class=\"colab-df-buttons\">\n",
              "\n",
              "  <div class=\"colab-df-container\">\n",
              "    <button class=\"colab-df-convert\" onclick=\"convertToInteractive('df-6633811a-6f8c-4bf5-abc0-fd704afe03c7')\"\n",
              "            title=\"Convert this dataframe to an interactive table.\"\n",
              "            style=\"display:none;\">\n",
              "\n",
              "  <svg xmlns=\"http://www.w3.org/2000/svg\" height=\"24px\" viewBox=\"0 -960 960 960\">\n",
              "    <path d=\"M120-120v-720h720v720H120Zm60-500h600v-160H180v160Zm220 220h160v-160H400v160Zm0 220h160v-160H400v160ZM180-400h160v-160H180v160Zm440 0h160v-160H620v160ZM180-180h160v-160H180v160Zm440 0h160v-160H620v160Z\"/>\n",
              "  </svg>\n",
              "    </button>\n",
              "\n",
              "  <style>\n",
              "    .colab-df-container {\n",
              "      display:flex;\n",
              "      gap: 12px;\n",
              "    }\n",
              "\n",
              "    .colab-df-convert {\n",
              "      background-color: #E8F0FE;\n",
              "      border: none;\n",
              "      border-radius: 50%;\n",
              "      cursor: pointer;\n",
              "      display: none;\n",
              "      fill: #1967D2;\n",
              "      height: 32px;\n",
              "      padding: 0 0 0 0;\n",
              "      width: 32px;\n",
              "    }\n",
              "\n",
              "    .colab-df-convert:hover {\n",
              "      background-color: #E2EBFA;\n",
              "      box-shadow: 0px 1px 2px rgba(60, 64, 67, 0.3), 0px 1px 3px 1px rgba(60, 64, 67, 0.15);\n",
              "      fill: #174EA6;\n",
              "    }\n",
              "\n",
              "    .colab-df-buttons div {\n",
              "      margin-bottom: 4px;\n",
              "    }\n",
              "\n",
              "    [theme=dark] .colab-df-convert {\n",
              "      background-color: #3B4455;\n",
              "      fill: #D2E3FC;\n",
              "    }\n",
              "\n",
              "    [theme=dark] .colab-df-convert:hover {\n",
              "      background-color: #434B5C;\n",
              "      box-shadow: 0px 1px 3px 1px rgba(0, 0, 0, 0.15);\n",
              "      filter: drop-shadow(0px 1px 2px rgba(0, 0, 0, 0.3));\n",
              "      fill: #FFFFFF;\n",
              "    }\n",
              "  </style>\n",
              "\n",
              "    <script>\n",
              "      const buttonEl =\n",
              "        document.querySelector('#df-6633811a-6f8c-4bf5-abc0-fd704afe03c7 button.colab-df-convert');\n",
              "      buttonEl.style.display =\n",
              "        google.colab.kernel.accessAllowed ? 'block' : 'none';\n",
              "\n",
              "      async function convertToInteractive(key) {\n",
              "        const element = document.querySelector('#df-6633811a-6f8c-4bf5-abc0-fd704afe03c7');\n",
              "        const dataTable =\n",
              "          await google.colab.kernel.invokeFunction('convertToInteractive',\n",
              "                                                    [key], {});\n",
              "        if (!dataTable) return;\n",
              "\n",
              "        const docLinkHtml = 'Like what you see? Visit the ' +\n",
              "          '<a target=\"_blank\" href=https://colab.research.google.com/notebooks/data_table.ipynb>data table notebook</a>'\n",
              "          + ' to learn more about interactive tables.';\n",
              "        element.innerHTML = '';\n",
              "        dataTable['output_type'] = 'display_data';\n",
              "        await google.colab.output.renderOutput(dataTable, element);\n",
              "        const docLink = document.createElement('div');\n",
              "        docLink.innerHTML = docLinkHtml;\n",
              "        element.appendChild(docLink);\n",
              "      }\n",
              "    </script>\n",
              "  </div>\n",
              "\n",
              "\n",
              "    <div id=\"df-8153cb10-1a52-490a-be81-0eaf5a71a9b0\">\n",
              "      <button class=\"colab-df-quickchart\" onclick=\"quickchart('df-8153cb10-1a52-490a-be81-0eaf5a71a9b0')\"\n",
              "                title=\"Suggest charts\"\n",
              "                style=\"display:none;\">\n",
              "\n",
              "<svg xmlns=\"http://www.w3.org/2000/svg\" height=\"24px\"viewBox=\"0 0 24 24\"\n",
              "     width=\"24px\">\n",
              "    <g>\n",
              "        <path d=\"M19 3H5c-1.1 0-2 .9-2 2v14c0 1.1.9 2 2 2h14c1.1 0 2-.9 2-2V5c0-1.1-.9-2-2-2zM9 17H7v-7h2v7zm4 0h-2V7h2v10zm4 0h-2v-4h2v4z\"/>\n",
              "    </g>\n",
              "</svg>\n",
              "      </button>\n",
              "\n",
              "<style>\n",
              "  .colab-df-quickchart {\n",
              "      --bg-color: #E8F0FE;\n",
              "      --fill-color: #1967D2;\n",
              "      --hover-bg-color: #E2EBFA;\n",
              "      --hover-fill-color: #174EA6;\n",
              "      --disabled-fill-color: #AAA;\n",
              "      --disabled-bg-color: #DDD;\n",
              "  }\n",
              "\n",
              "  [theme=dark] .colab-df-quickchart {\n",
              "      --bg-color: #3B4455;\n",
              "      --fill-color: #D2E3FC;\n",
              "      --hover-bg-color: #434B5C;\n",
              "      --hover-fill-color: #FFFFFF;\n",
              "      --disabled-bg-color: #3B4455;\n",
              "      --disabled-fill-color: #666;\n",
              "  }\n",
              "\n",
              "  .colab-df-quickchart {\n",
              "    background-color: var(--bg-color);\n",
              "    border: none;\n",
              "    border-radius: 50%;\n",
              "    cursor: pointer;\n",
              "    display: none;\n",
              "    fill: var(--fill-color);\n",
              "    height: 32px;\n",
              "    padding: 0;\n",
              "    width: 32px;\n",
              "  }\n",
              "\n",
              "  .colab-df-quickchart:hover {\n",
              "    background-color: var(--hover-bg-color);\n",
              "    box-shadow: 0 1px 2px rgba(60, 64, 67, 0.3), 0 1px 3px 1px rgba(60, 64, 67, 0.15);\n",
              "    fill: var(--button-hover-fill-color);\n",
              "  }\n",
              "\n",
              "  .colab-df-quickchart-complete:disabled,\n",
              "  .colab-df-quickchart-complete:disabled:hover {\n",
              "    background-color: var(--disabled-bg-color);\n",
              "    fill: var(--disabled-fill-color);\n",
              "    box-shadow: none;\n",
              "  }\n",
              "\n",
              "  .colab-df-spinner {\n",
              "    border: 2px solid var(--fill-color);\n",
              "    border-color: transparent;\n",
              "    border-bottom-color: var(--fill-color);\n",
              "    animation:\n",
              "      spin 1s steps(1) infinite;\n",
              "  }\n",
              "\n",
              "  @keyframes spin {\n",
              "    0% {\n",
              "      border-color: transparent;\n",
              "      border-bottom-color: var(--fill-color);\n",
              "      border-left-color: var(--fill-color);\n",
              "    }\n",
              "    20% {\n",
              "      border-color: transparent;\n",
              "      border-left-color: var(--fill-color);\n",
              "      border-top-color: var(--fill-color);\n",
              "    }\n",
              "    30% {\n",
              "      border-color: transparent;\n",
              "      border-left-color: var(--fill-color);\n",
              "      border-top-color: var(--fill-color);\n",
              "      border-right-color: var(--fill-color);\n",
              "    }\n",
              "    40% {\n",
              "      border-color: transparent;\n",
              "      border-right-color: var(--fill-color);\n",
              "      border-top-color: var(--fill-color);\n",
              "    }\n",
              "    60% {\n",
              "      border-color: transparent;\n",
              "      border-right-color: var(--fill-color);\n",
              "    }\n",
              "    80% {\n",
              "      border-color: transparent;\n",
              "      border-right-color: var(--fill-color);\n",
              "      border-bottom-color: var(--fill-color);\n",
              "    }\n",
              "    90% {\n",
              "      border-color: transparent;\n",
              "      border-bottom-color: var(--fill-color);\n",
              "    }\n",
              "  }\n",
              "</style>\n",
              "\n",
              "      <script>\n",
              "        async function quickchart(key) {\n",
              "          const quickchartButtonEl =\n",
              "            document.querySelector('#' + key + ' button');\n",
              "          quickchartButtonEl.disabled = true;  // To prevent multiple clicks.\n",
              "          quickchartButtonEl.classList.add('colab-df-spinner');\n",
              "          try {\n",
              "            const charts = await google.colab.kernel.invokeFunction(\n",
              "                'suggestCharts', [key], {});\n",
              "          } catch (error) {\n",
              "            console.error('Error during call to suggestCharts:', error);\n",
              "          }\n",
              "          quickchartButtonEl.classList.remove('colab-df-spinner');\n",
              "          quickchartButtonEl.classList.add('colab-df-quickchart-complete');\n",
              "        }\n",
              "        (() => {\n",
              "          let quickchartButtonEl =\n",
              "            document.querySelector('#df-8153cb10-1a52-490a-be81-0eaf5a71a9b0 button');\n",
              "          quickchartButtonEl.style.display =\n",
              "            google.colab.kernel.accessAllowed ? 'block' : 'none';\n",
              "        })();\n",
              "      </script>\n",
              "    </div>\n",
              "\n",
              "    </div>\n",
              "  </div>\n"
            ],
            "application/vnd.google.colaboratory.intrinsic+json": {
              "type": "dataframe",
              "summary": "{\n  \"name\": \"pd\",\n  \"rows\": 734,\n  \"fields\": [\n    {\n      \"column\": \"Name\",\n      \"properties\": {\n        \"dtype\": \"string\",\n        \"num_unique_values\": 715,\n        \"samples\": [\n          \"Chameleon\",\n          \"Sunspot\",\n          \"Godzilla\"\n        ],\n        \"semantic_type\": \"\",\n        \"description\": \"\"\n      }\n    },\n    {\n      \"column\": \"Gender\",\n      \"properties\": {\n        \"dtype\": \"category\",\n        \"num_unique_values\": 3,\n        \"samples\": [\n          \"Male\",\n          \"Female\",\n          \"unknown\"\n        ],\n        \"semantic_type\": \"\",\n        \"description\": \"\"\n      }\n    },\n    {\n      \"column\": \"Eye color\",\n      \"properties\": {\n        \"dtype\": \"category\",\n        \"num_unique_values\": 23,\n        \"samples\": [\n          \"white / red\",\n          \"yellow\",\n          \"unknown\"\n        ],\n        \"semantic_type\": \"\",\n        \"description\": \"\"\n      }\n    },\n    {\n      \"column\": \"Race\",\n      \"properties\": {\n        \"dtype\": \"category\",\n        \"num_unique_values\": 62,\n        \"samples\": [\n          \"Saiyan\",\n          \"Clone\",\n          \"Xenomorph XX121\"\n        ],\n        \"semantic_type\": \"\",\n        \"description\": \"\"\n      }\n    },\n    {\n      \"column\": \"Hair color\",\n      \"properties\": {\n        \"dtype\": \"category\",\n        \"num_unique_values\": 30,\n        \"samples\": [\n          \"Orange / White\",\n          \"Strawberry Blond\",\n          \"black\"\n        ],\n        \"semantic_type\": \"\",\n        \"description\": \"\"\n      }\n    },\n    {\n      \"column\": \"Height\",\n      \"properties\": {\n        \"dtype\": \"number\",\n        \"std\": 59.251894652003784,\n        \"min\": 15.2,\n        \"max\": 975.0,\n        \"num_unique_values\": 53,\n        \"samples\": [\n          267.0,\n          137.0,\n          226.0\n        ],\n        \"semantic_type\": \"\",\n        \"description\": \"\"\n      }\n    },\n    {\n      \"column\": \"Publisher\",\n      \"properties\": {\n        \"dtype\": \"category\",\n        \"num_unique_values\": 25,\n        \"samples\": [\n          \"J. R. R. Tolkien\",\n          \"J. K. Rowling\",\n          \"Dark Horse Comics\"\n        ],\n        \"semantic_type\": \"\",\n        \"description\": \"\"\n      }\n    },\n    {\n      \"column\": \"Skin color\",\n      \"properties\": {\n        \"dtype\": \"category\",\n        \"num_unique_values\": 17,\n        \"samples\": [\n          \"black\",\n          \"blue\",\n          \"green\"\n        ],\n        \"semantic_type\": \"\",\n        \"description\": \"\"\n      }\n    },\n    {\n      \"column\": \"Alignment\",\n      \"properties\": {\n        \"dtype\": \"category\",\n        \"num_unique_values\": 4,\n        \"samples\": [\n          \"good\",\n          \"unknown\",\n          \"bad\"\n        ],\n        \"semantic_type\": \"\",\n        \"description\": \"\"\n      }\n    },\n    {\n      \"column\": \"Weight\",\n      \"properties\": {\n        \"dtype\": \"number\",\n        \"std\": 104.15114206482696,\n        \"min\": 2.0,\n        \"max\": 900.0,\n        \"num_unique_values\": 134,\n        \"samples\": [\n          39.0,\n          57.0,\n          51.0\n        ],\n        \"semantic_type\": \"\",\n        \"description\": \"\"\n      }\n    }\n  ]\n}"
            }
          },
          "metadata": {},
          "execution_count": 38
        }
      ]
    },
    {
      "cell_type": "markdown",
      "source": [
        "#print()\n",
        "A função print() serve para exibir informações no console. É muito usada para:\n",
        "\n",
        "Ver o conteúdo de uma variável.\n",
        "\n",
        "Acompanhar o que está acontecendo no código.\n",
        "\n",
        "Depurar erros ou entender como os dados estão em determinado momento.\n",
        "\n",
        "\n",
        "O primeiro print(\"Dados originais:\") exibe um texto explicativo, que ajuda a identificar o que está sendo mostrado.\n"
      ],
      "metadata": {
        "id": "x5__0nPB1zhN"
      }
    },
    {
      "cell_type": "markdown",
      "source": [
        "#df.head()\n",
        "  Mostra as primeiras 5 linhas do DataFrame.\n",
        "\n",
        "Muito útil para uma visualização inicial dos dados carregados.\n",
        "\n",
        "O segundo print(df.head()) exibe as 5 primeiras linhas da tabela df, para que a gente possa visualizar os dados carregados."
      ],
      "metadata": {
        "id": "BFfYbJui18vK"
      }
    },
    {
      "cell_type": "markdown",
      "source": [
        "#Dica:\n",
        "Você pode usar o print() sempre que quiser verificar o valor de uma variável ou o resultado de alguma transformação ao longo do processo. É uma prática muito comum ao desenvolver scripts de ETL ou análise de dados."
      ],
      "metadata": {
        "id": "RK4sWzk72wYE"
      }
    },
    {
      "cell_type": "code",
      "source": [
        "print(\"Dados originais:\")\n",
        "print(df.head())"
      ],
      "metadata": {
        "colab": {
          "base_uri": "https://localhost:8080/"
        },
        "id": "njTc2XVn1hIF",
        "outputId": "e01f4840-d982-4e4b-9c23-b33764578ef7"
      },
      "execution_count": null,
      "outputs": [
        {
          "output_type": "stream",
          "name": "stdout",
          "text": [
            "Dados originais:\n",
            "           Nome     Gênero            Cor_dos_olhos             Raça  \\\n",
            "0         Alien  Masculino                  unknown  Xenomorph XX121   \n",
            "1  Killer Frost   Feminino                     blue            Human   \n",
            "2      Mystique   Feminino  yellow (without irises)           Mutant   \n",
            "3        Nebula   Feminino                     blue        Luphomoid   \n",
            "4    Abe Sapien  Masculino                     blue    Icthyo Sapien   \n",
            "\n",
            "  Cor_do_cabelo   Altura_cm            Editora Cor_da_pele Alinhamento  \\\n",
            "0       No Hair  244.000000  Dark Horse Comics       black         mau   \n",
            "1         Blond  186.726306          DC Comics        blue         mau   \n",
            "2  Red / Orange  178.000000      Marvel Comics        blue         mau   \n",
            "3       No Hair  185.000000      Marvel Comics        blue         mau   \n",
            "4       No Hair  191.000000  Dark Horse Comics        blue         bom   \n",
            "\n",
            "      Peso_kg  Altura_m        IMC  \n",
            "0  169.000000  2.440000  28.386187  \n",
            "1  112.252525  1.867263  32.194754  \n",
            "2   54.000000  1.780000  17.043303  \n",
            "3   83.000000  1.850000  24.251278  \n",
            "4   65.000000  1.910000  17.817494  \n"
          ]
        }
      ]
    },
    {
      "cell_type": "markdown",
      "source": [
        "#df.rename(columns={...})\n",
        "Renomeia uma ou mais colunas do DataFrame.\n",
        "\n",
        "  Passamos um dicionário com os nomes antigos como chave e os novos como valor."
      ],
      "metadata": {
        "id": "ckD88ulp2l8X"
      }
    },
    {
      "cell_type": "markdown",
      "source": [
        "#df['coluna'].replace({valor_antigo: valor_novo})\n",
        "Substitui valores dentro de uma coluna por outros valores.\n",
        "\n",
        "Usado para traduzir ou padronizar os dados."
      ],
      "metadata": {
        "id": "AbaPT75828qR"
      }
    },
    {
      "cell_type": "code",
      "source": [
        "df = df.rename(columns={\n",
        "    'Name': 'Nome',\n",
        "    'Gender': 'Gênero',\n",
        "    'Eye color': 'Cor_dos_olhos',\n",
        "    'Race': 'Raça',\n",
        "    'Hair color': 'Cor_do_cabelo',\n",
        "    'Height': 'Altura_cm',\n",
        "    'Publisher': 'Editora',\n",
        "    'Skin color': 'Cor_da_pele',\n",
        "    'Alignment': 'Alinhamento',\n",
        "    'Weight': 'Peso_kg'\n",
        "})\n",
        "\n",
        "# 2. Traduzir valores da coluna Gênero\n",
        "df['Gênero'] = df['Gênero'].replace({\n",
        "    'Male': 'Masculino',\n",
        "    'Female': 'Feminino',\n",
        "    'unknown': 'Desconhecido'\n",
        "})\n",
        "\n",
        "# 3. Traduzir valores da coluna Alinhamento\n",
        "df['Alinhamento'] = df['Alinhamento'].replace({\n",
        "    'good': 'bom',\n",
        "    'bad': 'mau',\n",
        "    'neutral': 'neutro'\n",
        "})"
      ],
      "metadata": {
        "id": "Z7pzsZMN3wGD"
      },
      "execution_count": null,
      "outputs": []
    },
    {
      "cell_type": "markdown",
      "source": [
        "#pd.to_numeric(df['coluna'], errors='coerce')\n",
        "Converte os dados da coluna para o tipo numérico.\n",
        "\n",
        "errors='coerce': transforma valores inválidos (ex: texto) em NaN (valor nulo)."
      ],
      "metadata": {
        "id": "9k3xYrrr28nJ"
      }
    },
    {
      "cell_type": "code",
      "source": [
        "df['Altura_cm'] = pd.to_numeric(df['Altura_cm'], errors='coerce')\n",
        "df['Peso_kg'] = pd.to_numeric(df['Peso_kg'], errors='coerce')"
      ],
      "metadata": {
        "id": "cI0J8hmA397v"
      },
      "execution_count": null,
      "outputs": []
    },
    {
      "cell_type": "markdown",
      "source": [
        "#df['coluna'].fillna(valor ou cálculo)\n",
        "Preenche os valores nulos (NaN) da coluna com um valor específico.\n",
        "\n",
        "Exemplo comum: df['coluna'].fillna(df['coluna'].mean()) → preenche com a média."
      ],
      "metadata": {
        "id": "CaflftWQ28jg"
      }
    },
    {
      "cell_type": "code",
      "source": [
        "df['Altura_cm'] = df['Altura_cm'].fillna(df['Altura_cm'].mean())\n",
        "df['Peso_kg'] = df['Peso_kg'].fillna(df['Peso_kg'].mean())"
      ],
      "metadata": {
        "id": "lScKazV74DKy"
      },
      "execution_count": null,
      "outputs": []
    },
    {
      "cell_type": "markdown",
      "source": [
        "#df['nova_coluna'] = cálculo\n",
        "Cria uma nova coluna com base em um cálculo, por exemplo:\n",
        "\n",
        "df['Altura_m'] = df['Altura_cm'] / 100\n",
        "\n",
        "df['IMC'] = df['Peso_kg'] / (df['Altura_m'] ** 2)"
      ],
      "metadata": {
        "id": "OstjXxWI28gY"
      }
    },
    {
      "cell_type": "code",
      "source": [
        "df['Altura_m'] = df['Altura_cm'] / 100\n",
        "df['IMC'] = df['Peso_kg'] / (df['Altura_m'] ** 2)"
      ],
      "metadata": {
        "id": "QXeIKDD_4HOD"
      },
      "execution_count": null,
      "outputs": []
    },
    {
      "cell_type": "markdown",
      "source": [
        "#df.drop_duplicates(subset=['coluna'])\n",
        "Remove linhas duplicadas do DataFrame, considerando uma ou mais colunas como critério de comparação."
      ],
      "metadata": {
        "id": "lL4KeuX628ZG"
      }
    },
    {
      "cell_type": "code",
      "source": [
        "df = df.drop_duplicates(subset=['Nome'])"
      ],
      "metadata": {
        "id": "93-PwpOH7Or4"
      },
      "execution_count": null,
      "outputs": []
    },
    {
      "cell_type": "markdown",
      "source": [
        "#df[df['coluna'] == 'valor']\n",
        "Filtra o DataFrame, retornando apenas as linhas que atendem à condição informada.\n",
        "\n",
        "Exemplo: df[df['Gênero'] == 'Feminino']"
      ],
      "metadata": {
        "id": "IUmwSMrx28Vt"
      }
    },
    {
      "cell_type": "code",
      "source": [
        "df_feminino = df[df['Gênero'] == 'Feminino']"
      ],
      "metadata": {
        "id": "4FKuN59g7RTF"
      },
      "execution_count": null,
      "outputs": []
    },
    {
      "cell_type": "markdown",
      "source": [
        "#df.groupby('coluna')['outra_coluna'].count().reset_index()\n",
        "Agrupa os dados com base em uma coluna e aplica uma função de agregação.\n",
        "\n",
        "groupby(): agrupa os dados.\n",
        "\n",
        "count(): conta a quantidade de registros em cada grupo.\n",
        "\n",
        "reset_index(): transforma o resultado em um novo DataFrame."
      ],
      "metadata": {
        "id": "QqzYo7lT28RS"
      }
    },
    {
      "cell_type": "code",
      "source": [
        "contagem_por_editora = df.groupby('Editora')['Nome'].count().reset_index()\n",
        "contagem_por_editora = contagem_por_editora.rename(columns={'Nome': 'Quantidade_personagens'})\n",
        "\n",
        "print(\"Resumo por editora:\")\n",
        "print(contagem_por_editora)\n",
        "\n",
        "print(\"\\nPersonagens femininas:\")\n",
        "print(df_feminino[['Nome', 'Gênero', 'Altura_cm', 'Peso_kg', 'IMC']].head())\n",
        "print(\"Arquivo tratado:\")\n",
        "print(df)"
      ],
      "metadata": {
        "colab": {
          "base_uri": "https://localhost:8080/"
        },
        "id": "9K-v8Jzc7UJ5",
        "outputId": "032e0c13-1e5d-4818-802f-e0f5370298ff"
      },
      "execution_count": null,
      "outputs": [
        {
          "output_type": "stream",
          "name": "stdout",
          "text": [
            "Resumo por editora:\n",
            "              Editora  Quantidade_personagens\n",
            "0         ABC Studios                       4\n",
            "1           DC Comics                     208\n",
            "2   Dark Horse Comics                      18\n",
            "3        George Lucas                      14\n",
            "4       Hanna-Barbera                       1\n",
            "5       HarperCollins                       6\n",
            "6      IDW Publishing                       4\n",
            "7         Icon Comics                       4\n",
            "8        Image Comics                      14\n",
            "9       J. K. Rowling                       1\n",
            "10   J. R. R. Tolkien                       1\n",
            "11      Marvel Comics                     376\n",
            "12          Microsoft                       1\n",
            "13       NBC - Heroes                      19\n",
            "14          Rebellion                       1\n",
            "15           Shueisha                       4\n",
            "16      Sony Pictures                       2\n",
            "17         South Park                       1\n",
            "18          Star Trek                       6\n",
            "19               SyFy                       5\n",
            "20       Team Epic TV                       5\n",
            "21        Titan Books                       1\n",
            "22  Universal Studios                       1\n",
            "23          Wildstorm                       3\n",
            "24            unknown                      15\n",
            "\n",
            "Personagens femininas:\n",
            "           Nome    Gênero   Altura_cm     Peso_kg        IMC\n",
            "1  Killer Frost  Feminino  186.726306  112.252525  32.194754\n",
            "2      Mystique  Feminino  178.000000   54.000000  17.043303\n",
            "3        Nebula  Feminino  185.000000   83.000000  24.251278\n",
            "6   Shadow Lass  Feminino  173.000000   54.000000  18.042701\n",
            "9       Copycat  Feminino  183.000000   67.000000  20.006569\n",
            "Arquivo tratado:\n",
            "             Nome     Gênero            Cor_dos_olhos             Raça  \\\n",
            "0           Alien  Masculino                  unknown  Xenomorph XX121   \n",
            "1    Killer Frost   Feminino                     blue            Human   \n",
            "2        Mystique   Feminino  yellow (without irises)           Mutant   \n",
            "3          Nebula   Feminino                     blue        Luphomoid   \n",
            "4      Abe Sapien  Masculino                     blue    Icthyo Sapien   \n",
            "..            ...        ...                      ...              ...   \n",
            "729     Blackwulf  Masculino                      red            Alien   \n",
            "730    Anti-Venom  Masculino                     blue         Symbiote   \n",
            "731     Venompool  Masculino                  unknown         Symbiote   \n",
            "732             Q  Masculino                  unknown    God / Eternal   \n",
            "733    Brundlefly  Masculino                  unknown           Mutant   \n",
            "\n",
            "    Cor_do_cabelo   Altura_cm            Editora Cor_da_pele Alinhamento  \\\n",
            "0         No Hair  244.000000  Dark Horse Comics       black         mau   \n",
            "1           Blond  186.726306          DC Comics        blue         mau   \n",
            "2    Red / Orange  178.000000      Marvel Comics        blue         mau   \n",
            "3         No Hair  185.000000      Marvel Comics        blue         mau   \n",
            "4         No Hair  191.000000  Dark Horse Comics        blue         bom   \n",
            "..            ...         ...                ...         ...         ...   \n",
            "729         White  188.000000      Marvel Comics     unknown     unknown   \n",
            "730         Blond  229.000000      Marvel Comics     unknown     unknown   \n",
            "731       unknown  226.000000      Marvel Comics     unknown     unknown   \n",
            "732       unknown  186.726306          Star Trek     unknown     unknown   \n",
            "733       unknown  193.000000            unknown     unknown     unknown   \n",
            "\n",
            "        Peso_kg  Altura_m        IMC  \n",
            "0    169.000000  2.440000  28.386187  \n",
            "1    112.252525  1.867263  32.194754  \n",
            "2     54.000000  1.780000  17.043303  \n",
            "3     83.000000  1.850000  24.251278  \n",
            "4     65.000000  1.910000  17.817494  \n",
            "..          ...       ...        ...  \n",
            "729   88.000000  1.880000  24.898144  \n",
            "730  358.000000  2.290000  68.267196  \n",
            "731  112.252525  2.260000  21.977548  \n",
            "732  112.252525  1.867263  32.194754  \n",
            "733  112.252525  1.930000  30.135715  \n",
            "\n",
            "[715 rows x 12 columns]\n"
          ]
        }
      ]
    },
    {
      "cell_type": "markdown",
      "source": [
        "#df.to_csv('arquivo.csv', sep=';', index=False)\n",
        "Salva o DataFrame em um arquivo CSV.\n",
        "\n",
        "sep=';': define o separador.\n",
        "\n",
        "index=False: não salva a coluna de índice numérico."
      ],
      "metadata": {
        "id": "xa5vwCRf28Li"
      }
    },
    {
      "cell_type": "markdown",
      "source": [
        "df.to_csv('personagens_tratados.csv', sep=';', index=False)\n",
        "df_feminino.to_csv('personagens_femininas.csv', sep=';', index=False)\n",
        "contagem_por_editora.to_csv('contagem_personagens_editora.csv', sep=';', index=False)"
      ],
      "metadata": {
        "id": "834JzWan7axn"
      }
    },
    {
      "cell_type": "code",
      "source": [],
      "metadata": {
        "id": "ud_QvQVg7wtH"
      },
      "execution_count": null,
      "outputs": []
    }
  ]
}